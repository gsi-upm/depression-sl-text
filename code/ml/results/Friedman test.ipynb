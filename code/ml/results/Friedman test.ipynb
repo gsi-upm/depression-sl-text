{
 "cells": [
  {
   "cell_type": "code",
   "execution_count": 1,
   "metadata": {
    "ExecuteTime": {
     "end_time": "2018-03-15T11:54:12.678059Z",
     "start_time": "2018-03-15T11:54:11.519555Z"
    }
   },
   "outputs": [],
   "source": [
    "from math import sqrt\n",
    "import numpy as np\n",
    "import pandas as pd\n",
    "\n",
    "from scipy.stats import f,friedmanchisquare, rankdata"
   ]
  },
  {
   "attachments": {},
   "cell_type": "markdown",
   "metadata": {},
   "source": [
    "# Friedman Test"
   ]
  },
  {
   "cell_type": "code",
   "execution_count": 2,
   "metadata": {
    "ExecuteTime": {
     "end_time": "2018-03-15T11:54:12.702902Z",
     "start_time": "2018-03-15T11:54:12.680894Z"
    }
   },
   "outputs": [],
   "source": [
    "def X_F_sqr(k,N,R):\n",
    "    return ((12*N)/(k*(k+1)))*(np.sum(R**2)-(k*(k+1)**2)/4)\n",
    "\n",
    "def F_F(k,N,X_F):\n",
    "    return ((N-1)*X_F)/(N*(k-1)-X_F)\n",
    "\n",
    "def critical_value(k, N, a=0.05):\n",
    "    d1 = k - 1\n",
    "    d2 = (k-1)*(N-1)\n",
    "    return f.isf(a, d1, d2)\n",
    "\n",
    "def cd(k,N,q_a):\n",
    "    return q_a * sqrt((k*(k+1))/(6*N))"
   ]
  },
  {
   "cell_type": "code",
   "execution_count": 12,
   "metadata": {
    "ExecuteTime": {
     "end_time": "2018-03-15T11:54:15.420918Z",
     "start_time": "2018-03-15T11:54:15.415700Z"
    }
   },
   "outputs": [],
   "source": [
    "scores = {\n",
    "    'Dataset' : ['DsD', 'DepSign'],\n",
    "    'BERT': [0.7100, 0.5790],\n",
    "    'MentalBERT': [0.7167, 0.6094],\n",
    "    'Mlf' : [0.7194, 0.6117],\n",
    "    'Mdr': [0.7211, 0.6325],\n",
    "    'Mdr2': [0.7238, 0.6322],\n",
    "    'Mdr3': [0.7041, 0.6040],\n",
    "    'Me' : [0.7335, 0.6381],\n",
    "}"
   ]
  },
  {
   "cell_type": "code",
   "execution_count": 13,
   "metadata": {
    "ExecuteTime": {
     "end_time": "2018-03-15T11:54:14.433438Z",
     "start_time": "2018-03-15T11:54:14.368665Z"
    }
   },
   "outputs": [
    {
     "data": {
      "text/html": [
       "<div>\n",
       "<style scoped>\n",
       "    .dataframe tbody tr th:only-of-type {\n",
       "        vertical-align: middle;\n",
       "    }\n",
       "\n",
       "    .dataframe tbody tr th {\n",
       "        vertical-align: top;\n",
       "    }\n",
       "\n",
       "    .dataframe thead th {\n",
       "        text-align: right;\n",
       "    }\n",
       "</style>\n",
       "<table border=\"1\" class=\"dataframe\">\n",
       "  <thead>\n",
       "    <tr style=\"text-align: right;\">\n",
       "      <th></th>\n",
       "      <th>Dataset</th>\n",
       "      <th>BERT</th>\n",
       "      <th>MentalBERT</th>\n",
       "      <th>Mlf</th>\n",
       "      <th>Mdr</th>\n",
       "      <th>Mdr2</th>\n",
       "      <th>Mdr3</th>\n",
       "      <th>Me</th>\n",
       "    </tr>\n",
       "  </thead>\n",
       "  <tbody>\n",
       "    <tr>\n",
       "      <th>0</th>\n",
       "      <td>DsD</td>\n",
       "      <td>0.710</td>\n",
       "      <td>0.7167</td>\n",
       "      <td>0.7194</td>\n",
       "      <td>0.7211</td>\n",
       "      <td>0.7238</td>\n",
       "      <td>0.7041</td>\n",
       "      <td>0.7335</td>\n",
       "    </tr>\n",
       "    <tr>\n",
       "      <th>1</th>\n",
       "      <td>DepSign</td>\n",
       "      <td>0.579</td>\n",
       "      <td>0.6094</td>\n",
       "      <td>0.6117</td>\n",
       "      <td>0.6325</td>\n",
       "      <td>0.6322</td>\n",
       "      <td>0.6040</td>\n",
       "      <td>0.6381</td>\n",
       "    </tr>\n",
       "  </tbody>\n",
       "</table>\n",
       "</div>"
      ],
      "text/plain": [
       "   Dataset   BERT  MentalBERT     Mlf     Mdr    Mdr2    Mdr3      Me\n",
       "0      DsD  0.710      0.7167  0.7194  0.7211  0.7238  0.7041  0.7335\n",
       "1  DepSign  0.579      0.6094  0.6117  0.6325  0.6322  0.6040  0.6381"
      ]
     },
     "execution_count": 13,
     "metadata": {},
     "output_type": "execute_result"
    }
   ],
   "source": [
    "scores = pd.DataFrame(scores)\n",
    "classifiers = list(set(scores.columns) - set(['Dataset']))\n",
    "#scores_data = scores[classifiers].values\n",
    "scores_data = scores[list(scores.columns)[1:]].values\n",
    "scores"
   ]
  },
  {
   "cell_type": "code",
   "execution_count": 14,
   "metadata": {},
   "outputs": [
    {
     "data": {
      "text/plain": [
       "2"
      ]
     },
     "execution_count": 14,
     "metadata": {},
     "output_type": "execute_result"
    }
   ],
   "source": [
    "scores_data.shape[0]"
   ]
  },
  {
   "cell_type": "code",
   "execution_count": 15,
   "metadata": {
    "ExecuteTime": {
     "end_time": "2018-03-15T11:54:21.936143Z",
     "start_time": "2018-03-15T11:54:21.901188Z"
    }
   },
   "outputs": [
    {
     "name": "stdout",
     "output_type": "stream",
     "text": [
      "k: 7       N: 2       a: 0.01\n",
      "chi2:  11.571428571428571\n",
      "Friedman's F:  26.999999999999982\n",
      "F(6,6)|0.01:  8.466125340476895\n"
     ]
    }
   ],
   "source": [
    "# parameters\n",
    "k = scores_data.shape[1]\n",
    "N=scores_data.shape[0]\n",
    "a = 0.01\n",
    "\n",
    "ranks = np.zeros(scores_data.shape)\n",
    "for i,scores_ in enumerate(scores_data):\n",
    "    ranks[i] = len(scores_)+1 - rankdata(scores_)\n",
    "    \n",
    "R = np.average(ranks, axis=0)\n",
    "X_F = X_F_sqr(k=k,N=N,R=R)\n",
    "print('k:', k, ' '*5, 'N:', N, ' '*5, 'a:', a)\n",
    "print('chi2: ', X_F)\n",
    "print(\"Friedman's F: \", F_F(k=k,N=N,X_F=X_F))\n",
    "print('F({},{})|{}: '.format(k-1,(k-1)*(N-1),a), critical_value(k=k,N=N, a=a))"
   ]
  },
  {
   "cell_type": "code",
   "execution_count": 16,
   "metadata": {
    "ExecuteTime": {
     "end_time": "2018-03-15T11:54:24.709833Z",
     "start_time": "2018-03-15T11:54:24.680742Z"
    }
   },
   "outputs": [
    {
     "data": {
      "text/html": [
       "<div>\n",
       "<style scoped>\n",
       "    .dataframe tbody tr th:only-of-type {\n",
       "        vertical-align: middle;\n",
       "    }\n",
       "\n",
       "    .dataframe tbody tr th {\n",
       "        vertical-align: top;\n",
       "    }\n",
       "\n",
       "    .dataframe thead th {\n",
       "        text-align: right;\n",
       "    }\n",
       "</style>\n",
       "<table border=\"1\" class=\"dataframe\">\n",
       "  <thead>\n",
       "    <tr style=\"text-align: right;\">\n",
       "      <th></th>\n",
       "      <th>BERT</th>\n",
       "      <th>MentalBERT</th>\n",
       "      <th>Mlf</th>\n",
       "      <th>Mdr</th>\n",
       "      <th>Mdr2</th>\n",
       "      <th>Mdr3</th>\n",
       "      <th>Me</th>\n",
       "    </tr>\n",
       "  </thead>\n",
       "  <tbody>\n",
       "    <tr>\n",
       "      <th>0</th>\n",
       "      <td>6.5</td>\n",
       "      <td>5.0</td>\n",
       "      <td>4.0</td>\n",
       "      <td>2.5</td>\n",
       "      <td>2.5</td>\n",
       "      <td>6.5</td>\n",
       "      <td>1.0</td>\n",
       "    </tr>\n",
       "  </tbody>\n",
       "</table>\n",
       "</div>"
      ],
      "text/plain": [
       "  BERT MentalBERT  Mlf  Mdr Mdr2 Mdr3   Me\n",
       "0  6.5        5.0  4.0  2.5  2.5  6.5  1.0"
      ]
     },
     "execution_count": 16,
     "metadata": {},
     "output_type": "execute_result"
    }
   ],
   "source": [
    "pd.set_option('display.max_columns', 2500)\n",
    "t = pd.DataFrame(columns=list(scores.columns)[1:], index=[0])\n",
    "t.loc[0] = R\n",
    "t"
   ]
  }
 ],
 "metadata": {
  "kernelspec": {
   "display_name": "Python 3",
   "language": "python",
   "name": "python3"
  },
  "language_info": {
   "codemirror_mode": {
    "name": "ipython",
    "version": 3
   },
   "file_extension": ".py",
   "mimetype": "text/x-python",
   "name": "python",
   "nbconvert_exporter": "python",
   "pygments_lexer": "ipython3",
   "version": "3.10.12"
  }
 },
 "nbformat": 4,
 "nbformat_minor": 1
}
